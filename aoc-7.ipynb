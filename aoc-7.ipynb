{
 "cells": [
  {
   "cell_type": "code",
   "execution_count": 41,
   "metadata": {},
   "outputs": [
    {
     "name": "stdout",
     "output_type": "stream",
     "text": [
      "[10, 19]: 2, 1 [0] \n",
      "[81, 40, 27]: 3, 2 [0, 0] [0, 1] \n",
      "[17, 5]: 2, 1 [0] \n",
      "[15, 6]: 2, 1 [0] \n",
      "[6, 8, 6, 15]: 4, 4 [0, 0, 0, 0] [0, 0, 0, 1] [0, 0, 1, 0] [0, 0, 1, 1] \n",
      "[16, 10, 13]: 3, 2 [0, 0] [0, 1] \n",
      "[17, 8, 14]: 3, 2 [0, 0] [0, 1] \n",
      "[9, 7, 18, 13]: 4, 4 [0, 0, 0, 0] [0, 0, 0, 1] [0, 0, 1, 0] [0, 0, 1, 1] \n",
      "[11, 6, 16, 20]: 4, 4 [0, 0, 0, 0] [0, 0, 0, 1] [0, 0, 1, 0] [0, 0, 1, 1] \n"
     ]
    }
   ],
   "source": [
    "import numpy as np\n",
    "\n",
    "dummy = ['190: 10 19',\n",
    "'3267: 81 40 27',\n",
    "'83: 17 5',\n",
    "'156: 15 6',\n",
    "'7290: 6 8 6 15',\n",
    "'161011: 16 10 13',\n",
    "'192: 17 8 14',\n",
    "'21037: 9 7 18 13',\n",
    "'292: 11 6 16 20']\n",
    "\n",
    "resultat = []\n",
    "for line in dummy:\n",
    "    resultat.append(list(line.split(': ')))\n",
    "    resultat[-1][0] = int(resultat[-1][0])\n",
    "    resultat[-1][1] = resultat[-1][1].split(' ')\n",
    "    resultat[-1][1] = [int(x) for x in resultat[-1][1]]\n",
    "\n",
    "for r in resultat:\n",
    "    l = len(r[1])\n",
    "    a = 2**(l-2)\n",
    "    print(f\"{r[1]}: {l}, {a}\", end=\" \")\n",
    "    for t in range(a):\n",
    "        binær = bin(t)[2:].zfill(a)\n",
    "        binær_liste = [int(x) for x in binær]\n",
    "        print(binær_liste, end=\" \")\n",
    "    print()"
   ]
  },
  {
   "cell_type": "code",
   "execution_count": 29,
   "metadata": {},
   "outputs": [
    {
     "data": {
      "text/plain": [
       "np.float64(2.0)"
      ]
     },
     "execution_count": 29,
     "metadata": {},
     "output_type": "execute_result"
    }
   ],
   "source": [
    "np.ceil(np.log2(3))"
   ]
  }
 ],
 "metadata": {
  "kernelspec": {
   "display_name": "Python 3",
   "language": "python",
   "name": "python3"
  },
  "language_info": {
   "codemirror_mode": {
    "name": "ipython",
    "version": 3
   },
   "file_extension": ".py",
   "mimetype": "text/x-python",
   "name": "python",
   "nbconvert_exporter": "python",
   "pygments_lexer": "ipython3",
   "version": "3.10.12"
  }
 },
 "nbformat": 4,
 "nbformat_minor": 2
}
