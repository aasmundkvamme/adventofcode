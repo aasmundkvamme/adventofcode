{
 "cells": [
  {
   "cell_type": "code",
   "execution_count": 118,
   "metadata": {},
   "outputs": [
    {
     "name": "stdout",
     "output_type": "stream",
     "text": [
      "10*19 = 190\n",
      "81 + 40*27 = 3267\n",
      "11 + 6*16 + 20 = 292\n",
      "3749\n",
      "[[83, [17, 5]], [156, [15, 6]], [7290, [6, 8, 6, 15]], [161011, [16, 10, 13]], [192, [17, 8, 14]], [21037, [9, 7, 18, 13]]]\n"
     ]
    }
   ],
   "source": [
    "import numpy as np\n",
    "\n",
    "def read_file_to_list(file_path):\n",
    "    with open(file_path, 'r') as file:\n",
    "        return file.read().splitlines()\n",
    "    \n",
    "dummy = ['190: 10 19',\n",
    "'3267: 81 40 27',\n",
    "'83: 17 5',\n",
    "'156: 15 6',\n",
    "'7290: 6 8 6 15',\n",
    "'161011: 16 10 13',\n",
    "'192: 17 8 14',\n",
    "'21037: 9 7 18 13',\n",
    "'292: 11 6 16 20']\n",
    "\n",
    "data = read_file_to_list('aoc-7.txt')\n",
    "resultat = []\n",
    "for line in dummy:\n",
    "    resultat.append(list(line.split(': ')))\n",
    "    resultat[-1][0] = int(resultat[-1][0])\n",
    "    resultat[-1][1] = resultat[-1][1].split(' ')\n",
    "    resultat[-1][1] = [int(x) for x in resultat[-1][1]]\n",
    "sum = 0\n",
    "runde_to = resultat.copy()\n",
    "for r in resultat:\n",
    "    ferdig = False\n",
    "    l = len(r[1])\n",
    "    a = 2**(l-1)\n",
    "    for t in range(a):\n",
    "        binær = bin(t)[2:].zfill(l-1)\n",
    "        binær_liste = [int(x) for x in binær]\n",
    "        utrekna = r[1][0]\n",
    "        stykke = f\"{utrekna}\"\n",
    "        if not ferdig:\n",
    "            for i in range(len(binær_liste)):\n",
    "                if binær_liste[i] == 0:\n",
    "                    utrekna += r[1][i+1]\n",
    "                    stykke += f\" + {r[1][i+1]}\"\n",
    "                else:\n",
    "                    utrekna *= r[1][i+1]\n",
    "                    stykke += f\"*{r[1][i+1]}\"\n",
    "            if utrekna == r[0]:\n",
    "                print(f\"{stykke} = {utrekna}\")\n",
    "                sum += utrekna\n",
    "                ferdig = True\n",
    "                runde_to.remove(r)\n",
    "print(sum)\n",
    "print(runde_to)"
   ]
  },
  {
   "cell_type": "code",
   "execution_count": 121,
   "metadata": {},
   "outputs": [
    {
     "name": "stdout",
     "output_type": "stream",
     "text": [
      "[6, 8, 6, 15] => [68, 6, 15]\n",
      "0\n",
      "1\n",
      "2\n",
      "3\n",
      "4\n",
      "5\n",
      "6\n",
      "[68, 6, 15] => [68, 615]\n",
      "0\n"
     ]
    },
    {
     "ename": "IndexError",
     "evalue": "list index out of range",
     "output_type": "error",
     "traceback": [
      "\u001b[0;31m---------------------------------------------------------------------------\u001b[0m",
      "\u001b[0;31mIndexError\u001b[0m                                Traceback (most recent call last)",
      "Cell \u001b[0;32mIn[121], line 28\u001b[0m\n\u001b[1;32m     26\u001b[0m \u001b[38;5;28;01mfor\u001b[39;00m i \u001b[38;5;129;01min\u001b[39;00m \u001b[38;5;28mrange\u001b[39m(\u001b[38;5;28mlen\u001b[39m(binær_liste)\u001b[38;5;241m-\u001b[39m\u001b[38;5;241m1\u001b[39m):\n\u001b[1;32m     27\u001b[0m     \u001b[38;5;28;01mif\u001b[39;00m binær_liste[i] \u001b[38;5;241m==\u001b[39m \u001b[38;5;241m0\u001b[39m:\n\u001b[0;32m---> 28\u001b[0m         utrekna \u001b[38;5;241m+\u001b[39m\u001b[38;5;241m=\u001b[39m \u001b[43mr\u001b[49m\u001b[43m[\u001b[49m\u001b[38;5;241;43m1\u001b[39;49m\u001b[43m]\u001b[49m\u001b[43m[\u001b[49m\u001b[43mi\u001b[49m\u001b[38;5;241;43m+\u001b[39;49m\u001b[38;5;241;43m1\u001b[39;49m\u001b[43m]\u001b[49m\n\u001b[1;32m     29\u001b[0m         stykke \u001b[38;5;241m+\u001b[39m\u001b[38;5;241m=\u001b[39m \u001b[38;5;124mf\u001b[39m\u001b[38;5;124m\"\u001b[39m\u001b[38;5;124m + \u001b[39m\u001b[38;5;132;01m{\u001b[39;00mr[\u001b[38;5;241m1\u001b[39m][i\u001b[38;5;241m+\u001b[39m\u001b[38;5;241m1\u001b[39m]\u001b[38;5;132;01m}\u001b[39;00m\u001b[38;5;124m\"\u001b[39m\n\u001b[1;32m     30\u001b[0m     \u001b[38;5;28;01melif\u001b[39;00m binær_liste[i] \u001b[38;5;241m==\u001b[39m \u001b[38;5;241m1\u001b[39m:\n",
      "\u001b[0;31mIndexError\u001b[0m: list index out of range"
     ]
    }
   ],
   "source": [
    "def decimal_to_trinomic(decimal_num):\n",
    "    if decimal_num == 0:\n",
    "        return \"0\"\n",
    "    trinomic = \"\"\n",
    "    while decimal_num:\n",
    "        trinomic = str(decimal_num % 3) + trinomic\n",
    "        decimal_num //= 3\n",
    "    return trinomic\n",
    "\n",
    "sum = 0\n",
    "for r in runde_to:\n",
    "    l = len(r[1])\n",
    "    a = 2**(l-1)\n",
    "    for k in range(l-1):\n",
    "        print(f\"{r[1]} => \", end=\"\")\n",
    "        konkat = int(str(r[1][k]) + str(r[1][k+1]))\n",
    "        r[1][k] = konkat\n",
    "        r[1].remove(r[1][k+1])\n",
    "        print(r[1])\n",
    "        for t in range(a-1):\n",
    "            print(t)\n",
    "            binær = bin(t)[2:].zfill(l-1)\n",
    "            binær_liste = [int(x) for x in binær]\n",
    "            utrekna = r[1][0]\n",
    "            stykke = f\"{utrekna}\"\n",
    "            for i in range(len(binær_liste)-1):\n",
    "                if binær_liste[i] == 0:\n",
    "                    utrekna += r[1][i+1]\n",
    "                    stykke += f\" + {r[1][i+1]}\"\n",
    "                elif binær_liste[i] == 1:\n",
    "                    utrekna *= r[1][i+1]\n",
    "                    stykke += f\"*{r[1][i+1]}\"\n",
    "            if utrekna == r[0]:\n",
    "                print(f\"{stykke} = {utrekna}\")\n",
    "                sum += utrekna\n",
    "                break\n",
    "            else:\n",
    "                print\n",
    "print(sum) "
   ]
  },
  {
   "cell_type": "code",
   "execution_count": 103,
   "metadata": {},
   "outputs": [
    {
     "data": {
      "text/plain": [
       "[[156, [15, 6]],\n",
       " [7290, [6, 8, 6, 15]],\n",
       " [161011, [16, 10, 13]],\n",
       " [192, [17, 8, 14]],\n",
       " [21037, [9, 7, 18, 13]],\n",
       " [292, [11, 6, 16, 20]]]"
      ]
     },
     "execution_count": 103,
     "metadata": {},
     "output_type": "execute_result"
    }
   ],
   "source": [
    "runde_to"
   ]
  }
 ],
 "metadata": {
  "kernelspec": {
   "display_name": "Python 3",
   "language": "python",
   "name": "python3"
  },
  "language_info": {
   "codemirror_mode": {
    "name": "ipython",
    "version": 3
   },
   "file_extension": ".py",
   "mimetype": "text/x-python",
   "name": "python",
   "nbconvert_exporter": "python",
   "pygments_lexer": "ipython3",
   "version": "3.10.12"
  }
 },
 "nbformat": 4,
 "nbformat_minor": 2
}
