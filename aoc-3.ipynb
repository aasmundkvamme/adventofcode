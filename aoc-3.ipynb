{
 "cells": [
  {
   "cell_type": "code",
   "execution_count": 1,
   "metadata": {},
   "outputs": [],
   "source": [
    "import re\n",
    "\n",
    "with open(\"aoc-3.txt\", \"r\") as f:\n",
    "    streng = f.read()"
   ]
  },
  {
   "cell_type": "code",
   "execution_count": 2,
   "metadata": {},
   "outputs": [
    {
     "name": "stdout",
     "output_type": "stream",
     "text": [
      "182780583\n"
     ]
    }
   ],
   "source": [
    "pattern = r\"mul\\(\\d{1,3},\\d{1,3}\\)\"\n",
    "delstreng = re.findall(pattern, streng)\n",
    "sum = 0\n",
    "for d in delstreng:\n",
    "    tal = re.findall('\\d{1,3}', d)\n",
    "    sum += int(tal[0]) * int(tal[1])\n",
    "print(sum)"
   ]
  },
  {
   "cell_type": "code",
   "execution_count": 3,
   "metadata": {},
   "outputs": [
    {
     "name": "stdout",
     "output_type": "stream",
     "text": [
      "90772405\n"
     ]
    }
   ],
   "source": [
    "pattern = r\"mul\\(\\d{1,3},\\d{1,3}\\)|do\\(|don't\\(\"\n",
    "delstreng = re.findall(pattern, streng)\n",
    "sum = 0\n",
    "do = True\n",
    "for d in delstreng:\n",
    "    if d == \"don't(\":\n",
    "        do = False\n",
    "    elif d == \"do(\":\n",
    "        do = True\n",
    "    else:\n",
    "        tal = re.findall('\\d{1,3}', d)\n",
    "        if do:\n",
    "            sum += int(tal[0]) * int(tal[1])\n",
    "print(sum)"
   ]
  }
 ],
 "metadata": {
  "kernelspec": {
   "display_name": "Python 3",
   "language": "python",
   "name": "python3"
  },
  "language_info": {
   "codemirror_mode": {
    "name": "ipython",
    "version": 3
   },
   "file_extension": ".py",
   "mimetype": "text/x-python",
   "name": "python",
   "nbconvert_exporter": "python",
   "pygments_lexer": "ipython3",
   "version": "3.10.12"
  }
 },
 "nbformat": 4,
 "nbformat_minor": 2
}
