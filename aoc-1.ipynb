{
 "cells": [
  {
   "cell_type": "code",
   "execution_count": 19,
   "metadata": {},
   "outputs": [],
   "source": [
    "import numpy as np\n",
    "import pandas as pd\n",
    "\n",
    "data = pd.read_csv('aoc-1.csv', header=None)\n",
    "liste1 = sorted(data.iloc[:,0].to_list())\n",
    "liste2 = sorted(data.iloc[:,1].to_list())\n",
    "# liste1 = data.to_numpy()[:,0].tolist()\n",
    "# liste2 = data.to_numpy()[:,1].tolist()"
   ]
  },
  {
   "cell_type": "code",
   "execution_count": 21,
   "metadata": {},
   "outputs": [
    {
     "name": "stdout",
     "output_type": "stream",
     "text": [
      "2285373\n"
     ]
    }
   ],
   "source": [
    "sum = 0\n",
    "for i in range(len(liste1)):\n",
    "    sum += np.abs(liste1[i] - liste2[i])\n",
    "print(sum)"
   ]
  },
  {
   "cell_type": "code",
   "execution_count": 23,
   "metadata": {},
   "outputs": [
    {
     "name": "stdout",
     "output_type": "stream",
     "text": [
      "11\n"
     ]
    }
   ],
   "source": [
    "demo1 = [1,2,3,3,3,4]\n",
    "demo2 = [3,3,3,4,5,9]\n",
    "sum = 0\n",
    "for i in range(len(demo1)):\n",
    "    sum += np.abs(demo1[i] - demo2[i])\n",
    "print(sum)"
   ]
  },
  {
   "cell_type": "code",
   "execution_count": 76,
   "metadata": {},
   "outputs": [
    {
     "name": "stdout",
     "output_type": "stream",
     "text": [
      "31\n"
     ]
    }
   ],
   "source": [
    "sum = 0\n",
    "for i in range(len(demo1)):\n",
    "    sum += demo1[i]*demo2.count(demo1[i])\n",
    "print(sum)"
   ]
  },
  {
   "cell_type": "code",
   "execution_count": 77,
   "metadata": {},
   "outputs": [
    {
     "name": "stdout",
     "output_type": "stream",
     "text": [
      "21142653\n"
     ]
    }
   ],
   "source": [
    "sum = 0\n",
    "for i in range(len(liste1)):\n",
    "    sum += liste1[i]*liste2.count(liste1[i])\n",
    "print(sum)"
   ]
  }
 ],
 "metadata": {
  "kernelspec": {
   "display_name": "Python 3",
   "language": "python",
   "name": "python3"
  },
  "language_info": {
   "codemirror_mode": {
    "name": "ipython",
    "version": 3
   },
   "file_extension": ".py",
   "mimetype": "text/x-python",
   "name": "python",
   "nbconvert_exporter": "python",
   "pygments_lexer": "ipython3",
   "version": "3.10.12"
  }
 },
 "nbformat": 4,
 "nbformat_minor": 2
}
