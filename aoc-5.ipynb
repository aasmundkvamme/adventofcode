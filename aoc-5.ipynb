{
 "cells": [
  {
   "cell_type": "code",
   "execution_count": 1,
   "metadata": {},
   "outputs": [],
   "source": [
    "import numpy as np\n",
    "dummy_reglar_base = [[47,53],[97,13],[97,61],[97,47],[75,29],[61,13],[75,53],[29,13],[97,29],[53,29],[61,53],[97,53],[61,29],[47,13],[75,47],[97,75],[47,61],[75,61],[47,29],[75,13],[53,13]]\n",
    "dummy_lister_base = [[75,47,61,53,29],[97,61,53,29,13],[75,29,13],[75,97,47,61,53],[61,13,29],[97,13,75,29,47]]"
   ]
  },
  {
   "cell_type": "code",
   "execution_count": 6,
   "metadata": {},
   "outputs": [],
   "source": [
    "reglar_base = []\n",
    "with open(\"aoc-5-1.txt\") as f:\n",
    "    for line in f:\n",
    "        reglar_base.append([int(line.split(',')[0]),int(line.split(',')[1])])\n",
    "lister_base = []\n",
    "with open(\"aoc-5-2.txt\") as f:\n",
    "    for line in f:\n",
    "        # line = line.strip()\n",
    "        oppdelt = line.split(',')\n",
    "        temp = [int(i) for i in oppdelt]\n",
    "        lister_base.append(temp)\n"
   ]
  },
  {
   "cell_type": "code",
   "execution_count": 3,
   "metadata": {},
   "outputs": [
    {
     "name": "stdout",
     "output_type": "stream",
     "text": [
      "4996\n"
     ]
    }
   ],
   "source": [
    "lister = lister_base\n",
    "reglar = reglar_base\n",
    "\n",
    "sum = 0\n",
    "for l in lister:\n",
    "    OK = True\n",
    "    for i in range(len(l)):\n",
    "        for j in range(i+1,len(l)):\n",
    "            par = [l[i],l[j]]\n",
    "            if par not in reglar:\n",
    "                # print(par, \"FEIL\")\n",
    "                OK = False\n",
    "                break\n",
    "            # else:\n",
    "            #     print(par, \"OK\")\n",
    "        if not OK:\n",
    "            break\n",
    "    if  OK:\n",
    "        # print(l, l[int(np.floor(len(l)/2))])\n",
    "        sum += l[int(np.floor(len(l)/2))]\n",
    "\n",
    "print(sum)"
   ]
  },
  {
   "cell_type": "code",
   "execution_count": 7,
   "metadata": {},
   "outputs": [
    {
     "name": "stdout",
     "output_type": "stream",
     "text": [
      "6311\n"
     ]
    }
   ],
   "source": [
    "lister = lister_base\n",
    "reglar = reglar_base\n",
    "sum = 0\n",
    "for l in lister:\n",
    "    # print(l)\n",
    "    OK = True\n",
    "    for i in range(len(l)):\n",
    "        for j in range(i+1,len(l)):\n",
    "            par = [l[i],l[j]]\n",
    "            if par not in reglar:\n",
    "                OK = False\n",
    "                # print(par, OK)\n",
    "                l[i], l[j] = l[j], l[i]\n",
    "                # break\n",
    "            else:\n",
    "                pass\n",
    "                # print(par, \"OK\")\n",
    "        if not OK:\n",
    "            pass\n",
    "            # break\n",
    "    if not OK:\n",
    "        # print(l, l[int(np.floor(len(l)/2))])\n",
    "        sum += l[int(np.floor(len(l)/2))]\n",
    "\n",
    "print(sum)"
   ]
  }
 ],
 "metadata": {
  "kernelspec": {
   "display_name": "Python 3",
   "language": "python",
   "name": "python3"
  },
  "language_info": {
   "codemirror_mode": {
    "name": "ipython",
    "version": 3
   },
   "file_extension": ".py",
   "mimetype": "text/x-python",
   "name": "python",
   "nbconvert_exporter": "python",
   "pygments_lexer": "ipython3",
   "version": "3.10.12"
  }
 },
 "nbformat": 4,
 "nbformat_minor": 2
}
