{
 "cells": [
  {
   "cell_type": "markdown",
   "metadata": {},
   "source": [
    "# Del 1\n",
    "Eg kan bruke `diophantine()` frå `sympy` til å løyse likningane:\n",
    "\n",
    "$$94m + 22n = 8400\\quad 34m+67n=5400\\qquad n,m \\in \\left\\{0, 1, 2, \\cdots\\right\\}$$"
   ]
  },
  {
   "cell_type": "code",
   "execution_count": 1,
   "metadata": {},
   "outputs": [
    {
     "name": "stdout",
     "output_type": "stream",
     "text": [
      "(11*t_0 + 16800, -47*t_0 - 71400)\n",
      "(67*t_0 + 10800, -34*t_0 - 5400)\n"
     ]
    }
   ],
   "source": [
    "from sympy.solvers.diophantine import diophantine\n",
    "from sympy import *\n",
    "from sympy import solve\n",
    "m, n = symbols(\"m n\", integer=True)\n",
    "mine = (m, n)\n",
    "t_0 = symbols(\"t_0\")\n",
    "eq1 = Eq(94*m+22*n,8400)\n",
    "los1, = diophantine(eq1, syms=mine)\n",
    "print(los1)\n",
    "eq2 = Eq(34*m+67*n,5400)\n",
    "los2, = diophantine(eq2, syms=mine)\n",
    "print(los2)"
   ]
  },
  {
   "cell_type": "code",
   "execution_count": 2,
   "metadata": {},
   "outputs": [
    {
     "data": {
      "text/plain": [
       "[]"
      ]
     },
     "execution_count": 2,
     "metadata": {},
     "output_type": "execute_result"
    }
   ],
   "source": [
    "neweq = Eq(los1[0], los1[1])\n",
    "newsol = solve(neweq, t_0, dict=True)\n",
    "newsol"
   ]
  },
  {
   "cell_type": "code",
   "execution_count": 9,
   "metadata": {},
   "outputs": [
    {
     "data": {
      "text/latex": [
       "$\\displaystyle 11 t_{0} + 16800$"
      ],
      "text/plain": [
       "11*t_0 + 16800"
      ]
     },
     "execution_count": 9,
     "metadata": {},
     "output_type": "execute_result"
    }
   ],
   "source": [
    "los_liste = list(los1)\n",
    "par_los1 = los_liste[0]\n",
    "par_los1"
   ]
  },
  {
   "cell_type": "code",
   "execution_count": 8,
   "metadata": {},
   "outputs": [
    {
     "ename": "TypeError",
     "evalue": "cannot unpack non-iterable Add object",
     "output_type": "error",
     "traceback": [
      "\u001b[0;31m---------------------------------------------------------------------------\u001b[0m",
      "\u001b[0;31mTypeError\u001b[0m                                 Traceback (most recent call last)",
      "Cell \u001b[0;32mIn[8], line 1\u001b[0m\n\u001b[0;32m----> 1\u001b[0m x,y \u001b[38;5;241m=\u001b[39m par_los1\n",
      "\u001b[0;31mTypeError\u001b[0m: cannot unpack non-iterable Add object"
     ]
    }
   ],
   "source": []
  },
  {
   "cell_type": "code",
   "execution_count": 22,
   "metadata": {},
   "outputs": [
    {
     "data": {
      "text/latex": [
       "$\\displaystyle - 47 t_{0} - 71400$"
      ],
      "text/plain": [
       "-47*t_0 - 71400"
      ]
     },
     "execution_count": 22,
     "metadata": {},
     "output_type": "execute_result"
    }
   ],
   "source": [
    "los1[1]"
   ]
  },
  {
   "cell_type": "code",
   "execution_count": 24,
   "metadata": {},
   "outputs": [
    {
     "ename": "TypeError",
     "evalue": "'set' object is not subscriptable",
     "output_type": "error",
     "traceback": [
      "\u001b[0;31m---------------------------------------------------------------------------\u001b[0m",
      "\u001b[0;31mTypeError\u001b[0m                                 Traceback (most recent call last)",
      "Cell \u001b[0;32mIn[24], line 13\u001b[0m\n\u001b[1;32m     10\u001b[0m sol \u001b[38;5;241m=\u001b[39m diophantine(eq)\n\u001b[1;32m     12\u001b[0m \u001b[38;5;66;03m# Extract the solutions\u001b[39;00m\n\u001b[0;32m---> 13\u001b[0m solutions \u001b[38;5;241m=\u001b[39m \u001b[43msol\u001b[49m\u001b[43m[\u001b[49m\u001b[38;5;241;43m0\u001b[39;49m\u001b[43m]\u001b[49m\n",
      "\u001b[0;31mTypeError\u001b[0m: 'set' object is not subscriptable"
     ]
    }
   ],
   "source": [
    "from sympy import symbols, Eq, solve, diophantine\n",
    "\n",
    "# Define the variables\n",
    "x, y = symbols('x y')\n",
    "\n",
    "# Define the Diophantine equation\n",
    "eq = Eq(2*x + 3*y, 7)\n",
    "\n",
    "# Solve the Diophantine equation\n",
    "sol = diophantine(eq)\n",
    "\n",
    "# Extract the solutions\n",
    "solutions = sol[0]"
   ]
  }
 ],
 "metadata": {
  "kernelspec": {
   "display_name": "Python 3",
   "language": "python",
   "name": "python3"
  },
  "language_info": {
   "codemirror_mode": {
    "name": "ipython",
    "version": 3
   },
   "file_extension": ".py",
   "mimetype": "text/x-python",
   "name": "python",
   "nbconvert_exporter": "python",
   "pygments_lexer": "ipython3",
   "version": "3.10.12"
  }
 },
 "nbformat": 4,
 "nbformat_minor": 2
}
