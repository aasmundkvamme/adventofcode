{
 "cells": [
  {
   "cell_type": "code",
   "execution_count": 2,
   "metadata": {},
   "outputs": [
    {
     "name": "stdout",
     "output_type": "stream",
     "text": [
      "x(t_0) = 4*t_0 - 5\n",
      "y(t_0) = 5 - 3*t_0\n"
     ]
    }
   ],
   "source": [
    "from sympy import symbols, Eq\n",
    "from sympy.solvers.diophantine import diophantine\n",
    "\n",
    "# Definer variablene\n",
    "x, y, t_0 = symbols('x y t_0')\n",
    "\n",
    "# Definer ligningen\n",
    "eq = Eq(3 * x + 4 * y, 5)\n",
    "\n",
    "# Finn løsninger med diophantine\n",
    "solutions = diophantine(eq)\n",
    "\n",
    "# Konverter løsningen til et anvendbart format\n",
    "solutions_list = list(solutions)\n",
    "parametric_solution = solutions_list[0]\n",
    "\n",
    "# Utpakk de parametiserte løsningene\n",
    "x_sol, y_sol = parametric_solution\n",
    "\n",
    "print(f\"x(t_0) = {x_sol}\")\n",
    "print(f\"y(t_0) = {y_sol}\")\n"
   ]
  },
  {
   "cell_type": "code",
   "execution_count": null,
   "metadata": {},
   "outputs": [],
   "source": [
    "\n",
    "# Hvis vi for eksempel ønsker å finne spesifikke verdier for en gitt t_0\n",
    "t_value = 0\n",
    "specific_x_val = x_sol.subs(t_0, t_value)\n",
    "specific_y_val = y_sol.subs(t_0, t_value)\n",
    "print(f\"Specific solution for t_0 = {t_value}: x = {specific_x_val}, y = {specific_y_val}\")\n",
    "\n",
    "# For å bruke disse løsningene som inndata til solve\n",
    "another_eq = Eq(2 * x + 3 * y, 8)\n",
    "# Bruk de parametiserte løsningene i en annen ligning\n",
    "substituted_eq = another_eq.subs({x: x_sol, y: y_sol})\n",
    "# Løs den nye ligningen for t_0\n",
    "new_solution = solve(substituted_eq, t_0)\n",
    "print(f\"Solution for t_0 in the new equation: {new_solution}\")\n"
   ]
  }
 ],
 "metadata": {
  "kernelspec": {
   "display_name": "Python 3",
   "language": "python",
   "name": "python3"
  },
  "language_info": {
   "codemirror_mode": {
    "name": "ipython",
    "version": 3
   },
   "file_extension": ".py",
   "mimetype": "text/x-python",
   "name": "python",
   "nbconvert_exporter": "python",
   "pygments_lexer": "ipython3",
   "version": "3.10.12"
  }
 },
 "nbformat": 4,
 "nbformat_minor": 2
}
