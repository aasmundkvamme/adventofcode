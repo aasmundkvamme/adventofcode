{
 "cells": [
  {
   "cell_type": "code",
   "execution_count": 96,
   "metadata": {},
   "outputs": [],
   "source": [
    "import numpy as np\n",
    "\n",
    "# dummy = \"12345\"\n",
    "dummy = \"2333133121414131402\"\n",
    "\n",
    "def read_file_to_list(file_path):\n",
    "    with open(file_path, 'r') as file:\n",
    "        return file.read().splitlines()\n",
    "\n",
    "def utvid(inn):\n",
    "    ut = []\n",
    "    n = 0\n",
    "    for i in range(len(inn)):\n",
    "        if np.mod(i,2) == 0:\n",
    "            for j in range(int(inn[i])):\n",
    "                ut.append(str(n))\n",
    "            n += 1\n",
    "        else:\n",
    "            for j in range(int(inn[i])):\n",
    "                ut.append('.')\n",
    "    return ut"
   ]
  },
  {
   "cell_type": "code",
   "execution_count": 74,
   "metadata": {},
   "outputs": [],
   "source": [
    "streng = read_file_to_list('aoc-9.txt')\n",
    "data = [int(i) for i in streng[0]] \n"
   ]
  },
  {
   "cell_type": "code",
   "execution_count": 67,
   "metadata": {},
   "outputs": [
    {
     "name": "stdout",
     "output_type": "stream",
     "text": [
      "Checksum = 1928\n"
     ]
    }
   ],
   "source": [
    "utvida = utvid(dummy)\n",
    "\n",
    "i = 0\n",
    "while i < len(utvida):\n",
    "    if utvida[i] == '.':\n",
    "        siste = utvida.pop()\n",
    "        if siste != '.':\n",
    "            utvida = utvida[:i] + [siste] + utvida[i+1:]\n",
    "            i += 1\n",
    "    else:\n",
    "        i += 1\n",
    "\n",
    "checksum = 0\n",
    "for i in range(len(utvida)):\n",
    "    checksum += int(utvida[i])*i\n",
    "\n",
    "print(f\"Checksum = {checksum}\")"
   ]
  },
  {
   "cell_type": "markdown",
   "metadata": {},
   "source": [
    "# Del 2\n",
    "Lag ei liste av alle blokkane, på forma 'verdi': 'antal':\n",
    "\n",
    "\"00...111...2...333.44.5555.6666.777.888899\" = [['0', 2], [' ', 3], ['1', 3], [' ', 3], ['2', 1], ...]\n",
    "\n",
    "Kanskje det fører fram?"
   ]
  },
  {
   "cell_type": "code",
   "execution_count": 93,
   "metadata": {},
   "outputs": [],
   "source": [
    "def til_liste(inn):\n",
    "    liste = []\n",
    "    n = 0\n",
    "    for i in range(len(inn)):\n",
    "        if np.mod(i,2) == 0:\n",
    "            liste.append([str(n), int(inn[i])])\n",
    "            n += 1\n",
    "        else:\n",
    "            liste.append([' ',int(inn[i])])\n",
    "    return liste"
   ]
  },
  {
   "cell_type": "code",
   "execution_count": 110,
   "metadata": {},
   "outputs": [
    {
     "name": "stdout",
     "output_type": "stream",
     "text": [
      "['9', 2]\n",
      "[['0', 2], ['9', 2], [' ', 1], ['1', 3], [' ', 3], ['2', 1], [' ', 3], ['3', 3], [' ', 1], ['4', 2], [' ', 1], ['5', 4], [' ', 1], ['6', 4], [' ', 1], ['7', 3], [' ', 1], ['8', 4], [' ', 0], ['9', 2]]\n",
      "['8', 4]\n",
      "[['0', 2], ['9', 2], [' ', 1], ['1', 3], [' ', 3], ['2', 1], [' ', 3], ['3', 3], [' ', 1], ['4', 2], [' ', 1], ['8', 4], ['5', 0], [' ', 1], ['6', 4], [' ', 1], ['7', 3], [' ', 1], ['8', 4]]\n",
      "['7', 3]\n",
      "[['0', 2], ['9', 2], [' ', 1], ['1', 3], [' ', 3], ['2', 1], [' ', 3], ['3', 3], [' ', 1], ['4', 2], [' ', 1], ['7', 3], ['8', 1], ['5', 0], [' ', 1], ['6', 4], [' ', 1], ['7', 3]]\n",
      "['6', 4]\n",
      "[['0', 2], ['9', 2], [' ', 1], ['1', 3], [' ', 3], ['2', 1], [' ', 3], ['3', 3], [' ', 1], ['4', 2], [' ', 1], ['7', 3], ['8', 1], ['5', 0], [' ', 1], ['6', 0], ['6', 0]]\n",
      "[' ', 1]\n"
     ]
    },
    {
     "ename": "IndexError",
     "evalue": "list index out of range",
     "output_type": "error",
     "traceback": [
      "\u001b[0;31m---------------------------------------------------------------------------\u001b[0m",
      "\u001b[0;31mIndexError\u001b[0m                                Traceback (most recent call last)",
      "Cell \u001b[0;32mIn[110], line 9\u001b[0m\n\u001b[1;32m      7\u001b[0m leit \u001b[38;5;241m=\u001b[39m \u001b[38;5;28;01mTrue\u001b[39;00m\n\u001b[1;32m      8\u001b[0m \u001b[38;5;28;01mwhile\u001b[39;00m leit:\n\u001b[0;32m----> 9\u001b[0m     \u001b[38;5;28;01mif\u001b[39;00m \u001b[43mliste\u001b[49m\u001b[43m[\u001b[49m\u001b[43mm\u001b[49m\u001b[43m]\u001b[49m[\u001b[38;5;241m1\u001b[39m] \u001b[38;5;241m>\u001b[39m\u001b[38;5;241m=\u001b[39m siste[\u001b[38;5;241m1\u001b[39m]:\n\u001b[1;32m     10\u001b[0m         leit \u001b[38;5;241m=\u001b[39m \u001b[38;5;28;01mFalse\u001b[39;00m\n\u001b[1;32m     11\u001b[0m         liste\u001b[38;5;241m.\u001b[39minsert(m, siste)\n",
      "\u001b[0;31mIndexError\u001b[0m: list index out of range"
     ]
    }
   ],
   "source": [
    "liste = til_liste(dummy)\n",
    "m = 1\n",
    "n = len(liste)\n",
    "while m <= n:\n",
    "    siste = liste[n-1]\n",
    "    print(siste)\n",
    "    leit = True\n",
    "    while leit:\n",
    "        if liste[m][1] >= siste[1]:\n",
    "            leit = False\n",
    "            liste.insert(m, siste)\n",
    "            liste[m+1][1] -= siste[1]\n",
    "            print(liste)\n",
    "            liste.pop()\n",
    "            liste.pop()\n",
    "            n = len(liste)\n",
    "        else:\n",
    "            m += 2"
   ]
  },
  {
   "cell_type": "code",
   "execution_count": null,
   "metadata": {},
   "outputs": [],
   "source": []
  },
  {
   "cell_type": "code",
   "execution_count": 106,
   "metadata": {},
   "outputs": [
    {
     "data": {
      "text/plain": [
       "17"
      ]
     },
     "execution_count": 106,
     "metadata": {},
     "output_type": "execute_result"
    }
   ],
   "source": [
    "len(liste)"
   ]
  }
 ],
 "metadata": {
  "kernelspec": {
   "display_name": "Python 3",
   "language": "python",
   "name": "python3"
  },
  "language_info": {
   "codemirror_mode": {
    "name": "ipython",
    "version": 3
   },
   "file_extension": ".py",
   "mimetype": "text/x-python",
   "name": "python",
   "nbconvert_exporter": "python",
   "pygments_lexer": "ipython3",
   "version": "3.10.12"
  }
 },
 "nbformat": 4,
 "nbformat_minor": 2
}
