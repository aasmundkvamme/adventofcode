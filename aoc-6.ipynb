{
 "cells": [
  {
   "cell_type": "code",
   "execution_count": 91,
   "metadata": {},
   "outputs": [],
   "source": [
    "import numpy as np\n",
    "\n",
    "def read_file_to_list(file_path):\n",
    "    with open(file_path, 'r') as file:\n",
    "        return file.read().splitlines()\n",
    "    \n",
    "aoc_grid = read_file_to_list('aoc-6.txt')\n",
    "dummy_grid = ['....#.....','.........#','..........','..#.......','.......#..','..........','.#..^.....','........#.','#.........','......#...']\n",
    "\n",
    "grid = dummy_grid\n",
    "grid = aoc_grid\n",
    "guards = []\n",
    "for i in range(len(grid)):\n",
    "    for j in range(len(grid[0])):\n",
    "        if grid[i][j] == '#':\n",
    "            guards.append([i,j])\n",
    "        if grid[i][j] == '^':\n",
    "            posisjon = [i,j]\n",
    "            retning = '^'\n",
    "        if grid[i][j] == 'v':\n",
    "            posisjon = [i,j]\n",
    "            retning = 'v'\n",
    "        if grid[i][j] == '>': \n",
    "            posisjon = [i,j]\n",
    "            retning = '>'\n",
    "        if grid[i][j] == '<':\n",
    "            posisjon = [i,j]\n",
    "            retning = '<'"
   ]
  },
  {
   "cell_type": "code",
   "execution_count": 92,
   "metadata": {},
   "outputs": [
    {
     "name": "stdout",
     "output_type": "stream",
     "text": [
      "5067.0\n"
     ]
    }
   ],
   "source": [
    "besøkt = np.zeros((len(grid), len(grid)))\n",
    "while posisjon[0] in range(len(grid)) and posisjon[1] in range(len(grid[0])):\n",
    "    if retning == '^':\n",
    "        try:\n",
    "            while grid[posisjon[0]-1][posisjon[1]] != '#':\n",
    "                posisjon[0] -= 1\n",
    "                if besøkt[posisjon[0], posisjon[1]] == 0:\n",
    "                    besøkt[posisjon[0], posisjon[1]] = 1\n",
    "            retning = '>'\n",
    "        except:\n",
    "            break\n",
    "    # print(posisjon, retning)\n",
    "    if retning == '>':\n",
    "        try:\n",
    "            while grid[posisjon[0]][posisjon[1]+1] != '#':\n",
    "                posisjon[1] += 1\n",
    "                if besøkt[posisjon[0], posisjon[1]] == 0:\n",
    "                    besøkt[posisjon[0], posisjon[1]] = 1\n",
    "            retning = 'v'\n",
    "        except:\n",
    "            break\n",
    "    # print(posisjon, retning)\n",
    "    if retning == 'v':\n",
    "        try:\n",
    "            while grid[posisjon[0]+1][posisjon[1]] != '#':\n",
    "                posisjon[0] += 1\n",
    "                if besøkt[posisjon[0], posisjon[1]] == 0:\n",
    "                    besøkt[posisjon[0], posisjon[1]] = 1\n",
    "            retning = '<'\n",
    "        except:\n",
    "            break\n",
    "    # print(posisjon, retning)\n",
    "    if retning == '<':\n",
    "        try:\n",
    "            while grid[posisjon[0]][posisjon[1]-1] != '#':\n",
    "                posisjon[1] -= 1\n",
    "                if besøkt[posisjon[0], posisjon[1]] == 0:\n",
    "                    besøkt[posisjon[0], posisjon[1]] = 1\n",
    "            retning = '^'\n",
    "        except:\n",
    "            break\n",
    "    # print(posisjon, retning)\n",
    "print(besøkt.sum())\n"
   ]
  }
 ],
 "metadata": {
  "kernelspec": {
   "display_name": "Python 3",
   "language": "python",
   "name": "python3"
  },
  "language_info": {
   "codemirror_mode": {
    "name": "ipython",
    "version": 3
   },
   "file_extension": ".py",
   "mimetype": "text/x-python",
   "name": "python",
   "nbconvert_exporter": "python",
   "pygments_lexer": "ipython3",
   "version": "3.13.1"
  }
 },
 "nbformat": 4,
 "nbformat_minor": 2
}
